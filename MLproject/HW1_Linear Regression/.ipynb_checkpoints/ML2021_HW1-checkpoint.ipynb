{
 "cells": [
  {
   "cell_type": "markdown",
   "metadata": {},
   "source": [
    "# 线性回归\n",
    "  \n",
    "某城市的电网系统需要升级，以应对日益增长的用电需求。电网系统需要考虑最高温度对城市的峰值用电量的影响。项目负责人需要预测明天城市的峰值用电量，他搜集了以往的数据。现在，负责人提供了他搜集到的数据，并请求你帮他训练出一个模型，这个模型能够很好地预测明天城市的峰值用电量。"
   ]
  },
  {
   "cell_type": "markdown",
   "metadata": {},
   "source": [
    "## 1- 准备"
   ]
  },
  {
   "cell_type": "markdown",
   "metadata": {},
   "source": [
    "先导入必要的python包"
   ]
  },
  {
   "cell_type": "code",
   "execution_count": 86,
   "metadata": {},
   "outputs": [],
   "source": [
    "import numpy as np\n",
    "import matplotlib.pyplot as plt #绘图\n",
    "import time\n",
    "%matplotlib inline \n",
    "# 调用matplotlib.pyplot的绘图函数plot()进行绘图的时候，在python console里面生成图像。"
   ]
  },
  {
   "cell_type": "markdown",
   "metadata": {},
   "source": [
    "导入负责人提供的数据，并可视化数据"
   ]
  },
  {
   "cell_type": "code",
   "execution_count": 87,
   "metadata": {
    "scrolled": false
   },
   "outputs": [
    {
     "name": "stdout",
     "output_type": "stream",
     "text": [
      "X shape: (80, 1)\n",
      "Y shape: (80, 1)\n",
      "some X[:5]: [[37.24]\n",
      " [37.53]\n",
      " [33.92]\n",
      " [26.59]\n",
      " [20.05]]\n",
      "some Y[:5]: [[4.04]\n",
      " [2.84]\n",
      " [3.2 ]\n",
      " [3.42]\n",
      " [2.32]]\n"
     ]
    },
    {
     "data": {
      "image/png": "[encoded data removed]",
      "text/plain": [
       "<Figure size 432x288 with 1 Axes>"
      ]
     },
     "metadata": {
      "needs_background": "light"
     },
     "output_type": "display_data"
    }
   ],
   "source": [
    "data = np.loadtxt('data.txt') # 载入data.txt数据\n",
    "#data 第一列为温度信息 第二列为人口信息\n",
    "X = data[:,0].reshape(-1,1)\n",
    "#data 第三列为用电量信息\n",
    "Y = data[:,2].reshape(-1,1)\n",
    "plt.xlabel('High temperature')\n",
    "plt.ylabel('Peak demand ')\n",
    "plt.scatter(X,Y) # 绘制散点图，横坐标为温度，纵坐标为用电量\n",
    "print('X shape:',X.shape)\n",
    "print('Y shape:',Y.shape)\n",
    "print('some X[:5]:',X[:5])\n",
    "print('some Y[:5]:',Y[:5])"
   ]
  },
  {
   "cell_type": "markdown",
   "metadata": {},
   "source": [
    "## 2- 单变量线性回归\n",
    "你决定使用回归算法来训练一个模型，用来预测明天城市的峰值用电量。\n",
    "\n",
    "### 单变量线性回归模型表示\n",
    "$$Peak\\ demand \\approx \\theta_0 + \\theta_1 \\cdot (High\\ temperature)$$\n",
    "![functions](images/lines.jpg)\n",
    "单变量线性回归的模型由两个参数$\\theta_0$,$\\theta_1$来表示一条直线。我们的目标也就是找到一个\"最符合\"的直线或者说参数$\\theta_i$如何选择。\n",
    "\n",
    "设输入的特征——最高温度(F)为$x^{(i)} \\in \\mathbb{R}^{n+1}$，$i=1,\\cdots,m$。$m$为样本总数，在该例子中为**$m=80$**。$n$为特征的个数，这里为$1$。\n",
    "$$\n",
    "x^{(i)} \\in \\mathbb{R}^2 = \\begin{bmatrix} 1 \\\\ \\text{high temperature for day i} \\end{bmatrix}\n",
    "$$\n",
    "\n",
    "设输出为$y^{(i)} \\in \\mathbb{R}$，表示第$i$天的峰值用电量。\n",
    "\n",
    "参数为$\\theta \\in \\mathbb{R}^{n+1} = \\begin{bmatrix} \\theta_0 \\\\ \\theta_1 \\\\ \\vdots \\\\ \\theta_n \\end{bmatrix}$\n",
    "\n",
    "在该例子中，模型应该为一条直线，假设模型为：\n",
    "$$h_{\\theta}(x) = \\theta^T x = \\theta_0 + \\theta_1 x $$\n",
    "**注意**：这里的$\\theta^T$是一个向量，$\\theta_0,\\theta_1$是标量。使用向量化的表示原因（1）简化数学公式的书写（2）与程序代码中的表示可以一致，使用向量化的代码表示可以加速运算，因此一般能不用`for`循环的地方都不用`for`循环。 \n",
    "\n",
    "下面一个简单的例子说明向量化的代码运算更快  \n"
   ]
  },
  {
   "cell_type": "code",
   "execution_count": 88,
   "metadata": {},
   "outputs": [
    {
     "name": "stdout",
     "output_type": "stream",
     "text": [
      "for循环的计算时间6.62s\n",
      "计算结果：2498917.85\n",
      "向量化的计算时间0.01s\n",
      "计算结果：2498917.85\n"
     ]
    }
   ],
   "source": [
    "# 随机初始化两个向量，计算它们的点积\n",
    "x = np.random.rand(10000000,1)\n",
    "y = np.random.rand(10000000,1)\n",
    "ans = 0\n",
    "start = time.time()\n",
    "for i in range(10000000):\n",
    "    ans += x[i,0]*y[i,0]\n",
    "end = time.time()\n",
    "print('for循环的计算时间%.2fs'%(end - start))\n",
    "print('计算结果：%.2f'%(ans))\n",
    "start = time.time()\n",
    "ans = np.dot(x.T,y)\n",
    "end = time.time()\n",
    "print('向量化的计算时间%.2fs'%(end - start))\n",
    "print('计算结果：%.2f'%(ans))"
   ]
  },
  {
   "cell_type": "markdown",
   "metadata": {},
   "source": [
    "\n",
    "因为$\\theta_0 + \\theta_1 x=\\begin{bmatrix} \\theta_0 \\quad \\theta_1 \\end{bmatrix} \\begin{bmatrix} 1 \\\\ x \\end{bmatrix} $\n",
    "因此，为了方便编程，我们需要给每一个$x^{(i)}$的前面再加一行1。使得每一个$x^{(i)}$成为了一个2维向量"
   ]
  },
  {
   "cell_type": "markdown",
   "metadata": {},
   "source": [
    "### 预测结果\n",
    "\n",
    "模型需要根据输入自变量 $x^{(i)}$ 和参数 $\\theta$ 来预测可能的产生的 $predict\\_y^{(i)}$\n",
    "\n",
    "直接将自变量 $x^{(i)}$ 作为模型的输入，而模型自动根据输入和当前参数 $\\theta$ 输出预测结果：\n",
    "\n",
    "$$\n",
    "predict\\_y^{(i)} = h_\\theta(x^{(i)})\n",
    "$$\n",
    "\n",
    "其中 $h_\\theta(x^{(i)})$ 为模型在参数为 $\\theta$ 情况下，对于输入 $x^{(i)}$的预测函数。\n",
    "\n",
    "$predict\\_y^{(i)}$ 为当前情况下模型根据输入而做出的预测\n",
    "\n",
    "在预测阶段，$x$ 作为自变量\n"
   ]
  },
  {
   "cell_type": "markdown",
   "metadata": {},
   "source": [
    "### 损失函数\n",
    "\n",
    "模型的预测结果和实际结果有差距，为了衡量它们之间的差距，或者说使用这个模型产生的损失，我们定义损失函数$l(predict\\_y^{(i)}, y^{(i)})$。这里我们使用平方损失：\n",
    "$$\n",
    "l(predict\\_y, y) = \\left ( predict\\_y^{(i)} - y^{(i)} \\right )^2\n",
    "$$\n",
    "\n",
    "上述损失函数表示一个样本的损失，整个训练集的损失使用$J(\\theta)$表示：\n",
    "$$\n",
    "\\begin{aligned}\n",
    "J(\\theta) & = \\frac{1}{2m} \\sum_{i=1}^{m}l(predict\\_y^{(i)}, y^{(i)}) \\\\\n",
    "& = \\frac{1}{2m} \\sum_{i=1}^{m} \\left ( h_\\theta(x^{(i)}) - y^{(i)} \\right )^2 \\\\\n",
    "& = \\frac{1}{2m} \\sum_{i=1}^{m} \\left ( \\theta^T x^{(i)} - y^{(i)} \\right )^2\n",
    "\\end{aligned}\n",
    "$$\n",
    "（其中数字2的作用是方便求导时的运算）\n",
    "\n",
    "为了使模型的预测效果好，需要最小化训练集上的损失，$\\underset{\\theta}{\\text{minimize}} J(\\theta)$。\n",
    "\n",
    "在损失阶段，$\\theta$ 作为自变量\n"
   ]
  },
  {
   "cell_type": "markdown",
   "metadata": {},
   "source": [
    "### 梯度下降法\n",
    "\n",
    "为了得到使得损失函数$J(\\theta)$最小化的$\\theta$，可以使用梯度下降法。\n",
    "\n",
    "损失函数$J(\\theta)$的函数图像如下\n",
    "![损失函数J](images/loss_function_j.png)\n",
    "\n",
    "损失函数$J(\\theta)$关于参数向量$\\theta$中的一个参数比如$\\theta_1$的函数图是\n",
    "![theta-J 函数图](images/theta-J.png)\n",
    "\n",
    "假设一开始$J(\\theta)$的值在紫色点上，为了降低$J(\\theta)$值，需要$\\theta_1$往右变移动，这个方向是$J(\\theta)$在$\\theta_1$上的负梯度。只要$\\theta$不断往负梯度方向移动，$J(\\theta)$一定可以降到最低值。梯度下降法就是使参数$\\theta$不断往负梯度移动，经过有限次迭代(更新$\\theta$值)之后，损失函数$J(\\theta)$达到最低值。\n",
    "\n",
    "梯度下降法的过程：\n",
    "1. 初始化参数向量$\\theta$。\n",
    "\n",
    "2. 开始迭代\n",
    "\n",
    "   A.根据实际输入$x$和参数$\\theta$预测输出，\n",
    "   \n",
    "   B. 根据预测输出值和实际输出值之间的差距，计算损失函数$J(\\theta)$，\n",
    "   \n",
    "   C. 计算$\\theta$的梯度，\n",
    "   \n",
    "   D. 更新参数$\\theta$。\n",
    "\n"
   ]
  },
  {
   "cell_type": "markdown",
   "metadata": {},
   "source": [
    "现在，我们开始实现 Regression 学习算法。\n",
    "\n",
    "**任务1：** 首先在$X$前面加上一列1，表示参数$\\theta_0$的系数，方便运算。$X$是形状为$(m,1)$的矩阵，一共$m$行数据，我们需要为每一行数据的前面加一列1，也就是像这样  \n",
    "$$\n",
    "\\begin{bmatrix} x^{(0)} \\\\ x^{(1)} \\\\ \\vdots \\\\x^{(m-1)}  \\end{bmatrix} \\longrightarrow\n",
    "\\begin{bmatrix} 1\\quad x^{(0)} \\\\ 1\\quad x^{(1)} \\\\ \\vdots \\\\ 1\\ x^{(m-1)}  \\end{bmatrix}\n",
    "$$\n",
    "提示：可以使用`np.hstack`把两个矩阵水平合在一起。用1初始化向量或矩阵的函数是`np.ones`。(函数详情使用python的帮助函数`help`，比如`help(np.ones)`，或者百度。)"
   ]
  },
  {
   "cell_type": "code",
   "execution_count": 89,
   "metadata": {},
   "outputs": [],
   "source": [
    "def preprocess_data(X):\n",
    "    \"\"\"输入预处理 在X前面加一列1\n",
    "    参数：\n",
    "        X:原始数据，shape为 mx1\n",
    "    返回：\n",
    "        X_train: 在X加一列1的数据，shape为 mx2\n",
    "        完成√\n",
    "    \"\"\"\n",
    "    m = X.shape[0]   # m 是数据X的行数\n",
    "    ### START CODE HERE ###\n",
    "    Z = np.ones((m,1) , dtype=int)\n",
    "    X_train = np.hstack((Z , X))\n",
    "    ### END CODE HERE ###\n",
    "    return X_train"
   ]
  },
  {
   "cell_type": "code",
   "execution_count": 90,
   "metadata": {},
   "outputs": [
    {
     "name": "stdout",
     "output_type": "stream",
     "text": [
      "new X shape: (80, 2)\n",
      "Y shape: (80, 1)\n",
      "new X[:5,:]= [[ 1.   37.24]\n",
      " [ 1.   37.53]\n",
      " [ 1.   33.92]\n",
      " [ 1.   26.59]\n",
      " [ 1.   20.05]]\n",
      "Y[:5,:]= [[4.04]\n",
      " [2.84]\n",
      " [3.2 ]\n",
      " [3.42]\n",
      " [2.32]]\n"
     ]
    }
   ],
   "source": [
    "X = preprocess_data(X)\n",
    "print('new X shape:',X.shape)\n",
    "print('Y shape:',Y.shape)\n",
    "print('new X[:5,:]=',X[:5,:])\n",
    "print('Y[:5,:]=',Y[:5,:])"
   ]
  },
  {
   "cell_type": "markdown",
   "metadata": {},
   "source": [
    "**任务2：** 接着，初始化参数向量$\\theta$。$\\theta$的shape是$(2,1)$，我们随机初始化$\\theta$。\n",
    "\n",
    "提示：numpy的随机函数是`np.random.rand`。"
   ]
  },
  {
   "cell_type": "code",
   "execution_count": 91,
   "metadata": {},
   "outputs": [],
   "source": [
    "def init_parameter(shape):\n",
    "    \"\"\"初始化参数\n",
    "    参数：\n",
    "        shape: 参数形状\n",
    "    返回：\n",
    "        theta_init: 初始化后的参数\n",
    "        √\n",
    "    \"\"\"\n",
    "    \n",
    "    np.random.seed(0)\n",
    "    m, n = shape\n",
    "    ### START CODE HERE ###\n",
    "    \n",
    "    theta_init = np.random.rand(m , n)\n",
    "\n",
    "    ### END CODE HERE ###\n",
    "    \n",
    "    return theta_init"
   ]
  },
  {
   "cell_type": "code",
   "execution_count": 92,
   "metadata": {},
   "outputs": [
    {
     "name": "stdout",
     "output_type": "stream",
     "text": [
      "theta shape is  (2, 1)\n",
      "theta =  [[0.5488135 ]\n",
      " [0.71518937]]\n"
     ]
    }
   ],
   "source": [
    "theta = init_parameter((2,1))\n",
    "print('theta shape is ',theta.shape)\n",
    "print('theta = ',theta)"
   ]
  },
  {
   "cell_type": "code",
   "execution_count": 93,
   "metadata": {},
   "outputs": [
    {
     "data": {
      "text/plain": [
       "array([[ 1.  , 37.24],\n",
       "       [ 1.  , 37.53],\n",
       "       [ 1.  , 33.92],\n",
       "       [ 1.  , 26.59],\n",
       "       [ 1.  , 20.05]])"
      ]
     },
     "execution_count": 93,
     "metadata": {},
     "output_type": "execute_result"
    }
   ],
   "source": [
    "X[:5,:]"
   ]
  },
  {
   "cell_type": "markdown",
   "metadata": {},
   "source": [
    "**任务3：**通过已知 $X$ 和参数 $\\theta$ 计算预测的 $predict\\_Y$ 值。由于使用`for`循环单独计算每个预测值效率不高，因此我们需要用向量化的方法去掉`for`循环。\n",
    "\n",
    "$X$ 大小为$m \\times (n+1)$($n$表示特征数量，对于这里$n=1$)，每行是一条样本特征向量，$\\theta$ 大小为$(n+1) \\times 1$，可以使用$X \\theta$计算所有样本的预测结果,大小为$m\\times 1$\n",
    "\n",
    "这里的线性模型就可以表示为\n",
    "$$\n",
    "h_{\\theta}(X) = X \\theta\n",
    "$$， 这里$h_{\\theta}(X)$的大小为$m \\times 1$，结果上等于 $predict\\_Y_\\theta$\n",
    "\n",
    "**提示：**矩阵相乘 `np.dot(矩阵1，矩阵2)`"
   ]
  },
  {
   "cell_type": "code",
   "execution_count": 94,
   "metadata": {},
   "outputs": [
    {
     "name": "stdout",
     "output_type": "stream",
     "text": [
      "[[27.18246551]\n",
      " [27.38987042]\n",
      " [24.80803681]\n",
      " [19.56569876]\n",
      " [14.8883603 ]]\n"
     ]
    }
   ],
   "source": [
    "def compute_predict_Y(X,theta):\n",
    "    ### START CODE HERE ###\n",
    "    predictY = np.dot(X , theta)\n",
    "    ### END CODE HERE ###\n",
    "    return predictY\n",
    "predict_Y = compute_predict_Y(X,theta)\n",
    "print(predict_Y[:5])"
   ]
  },
  {
   "cell_type": "markdown",
   "metadata": {},
   "source": [
    "**任务4：** 实现计算损失函数$J(\\theta)$的函数。   \n",
    "从公式$$\n",
    "\\begin{aligned}\n",
    "J(\\theta) = \\frac{1}{2m} \\sum_{i=1}^{m} \\left ( predict\\_y_\\theta^{(i)} - y_\\theta^{(i)} \\right )^2\n",
    "\\end{aligned}\n",
    "$$\n",
    "我们可以看到有个求和。由于使用`for`循环效率不高，因此我们需要用向量化的方法去掉`for`循环。接着$(predict\\_Y - Y)^2$计算所有样本的损失值，最后求和并除以$2m$得到$J(\\theta)$的值。因此，，$J(\\theta)$应该是一个标量   \n",
    "提示：矩阵乘法运算可使用`np.dot`函数，平方运算可使用`np.power(data, 2)`函数，求和运算可使用`np.sum`。"
   ]
  },
  {
   "cell_type": "code",
   "execution_count": 95,
   "metadata": {},
   "outputs": [],
   "source": [
    "def compute_J(predict_Y, Y):\n",
    "    \"\"\"计算损失函数J\n",
    "    参数：\n",
    "        X: 训练集数据特征，shape: (m, 2)\n",
    "        Y: 训练集数据标签，shape: (m, 1)\n",
    "        theta: 参数，shape: (2, 1)\n",
    "        \n",
    "    返回：\n",
    "        loss: 损失值\n",
    "        √\n",
    "    \"\"\"\n",
    "    \n",
    "    m = Y.shape[0]\n",
    "    \n",
    "    ### START CODE HERE ###\n",
    "    \n",
    "    loss = np.power((predict_Y - Y) , 2)\n",
    "    loss = np.sum(loss) / (2 * len(X))\n",
    "\n",
    "    ### END CODE HERE ###\n",
    "    \n",
    "    return loss"
   ]
  },
  {
   "cell_type": "code",
   "execution_count": 96,
   "metadata": {},
   "outputs": [
    {
     "name": "stdout",
     "output_type": "stream",
     "text": [
      "first_loss =  144.24776230557214\n"
     ]
    }
   ],
   "source": [
    "first_loss = compute_J(predict_Y, Y)\n",
    "print(\"first_loss = \", first_loss)"
   ]
  },
  {
   "cell_type": "markdown",
   "metadata": {},
   "source": [
    "**任务5**:计算参数$\\theta$的梯度。  \n",
    "$$\n",
    "\\frac{\\partial J(\\theta)}{\\partial \\theta_j} = \\frac{1}{m} \\sum_{i=1}^{m} \\left ( \\theta^T x^{(i)} - y \\right ) x_j^{(i)}\n",
    "$$\n",
    "向量化公式为\n",
    "$$\n",
    "\\text{gradients} =\\frac{1}{m} X^T (X \\theta - Y) \n",
    "$$\n",
    "提示：矩阵A的转置表示为`A.T`"
   ]
  },
  {
   "cell_type": "code",
   "execution_count": 97,
   "metadata": {},
   "outputs": [],
   "source": [
    "def compute_gradient(predict_Y, Y, X):\n",
    "    \"\"\"计算参数theta的梯度值\n",
    "    参数：\n",
    "        X: 训练集数据特征，shape: (m, 2)\n",
    "        Y: 训练集数据标签，shape: (m, 1)\n",
    "        theta: 参数，shape: (2, 1)\n",
    "        \n",
    "    返回：\n",
    "        gradients: theta的梯度列表 shape:(2,1)\n",
    "        √\n",
    "    \"\"\"\n",
    "    \n",
    "    m = X.shape[0]\n",
    "    gradients = None\n",
    "    \n",
    "    ### START CODE HERE ###\n",
    "\n",
    "    gradients = np.dot(X.T , (predict_Y - Y))\n",
    "    gradients /= m\n",
    "\n",
    "    ### END CODE HERE ###\n",
    "    \n",
    "    return gradients"
   ]
  },
  {
   "cell_type": "code",
   "execution_count": 98,
   "metadata": {},
   "outputs": [
    {
     "name": "stdout",
     "output_type": "stream",
     "text": [
      "gradients_first shape :  (2, 1)\n",
      "gradients_first =  [[ 16.01688437]\n",
      " [460.53440708]]\n"
     ]
    }
   ],
   "source": [
    "gradients_first = compute_gradient(predict_Y, Y ,X)\n",
    "print(\"gradients_first shape : \", gradients_first.shape)\n",
    "print(\"gradients_first = \", gradients_first)\n"
   ]
  },
  {
   "cell_type": "markdown",
   "metadata": {},
   "source": [
    "**任务6**:用梯度下降法更新参数$\\theta$  \n",
    "\n",
    "**提示**:parameters = $\\theta$ - $learning\\_rate·gradients$\n",
    "\n",
    "实现`update_parameters`函数。"
   ]
  },
  {
   "cell_type": "code",
   "execution_count": 99,
   "metadata": {},
   "outputs": [],
   "source": [
    "def update_parameters(theta, gradients, learning_rate=0.01):\n",
    "    \"\"\"更新参数theta\n",
    "    参数：\n",
    "        theta: 参数，shape: (2, 1)\n",
    "        gradients: 梯度，shape: (2, 1)\n",
    "        learning_rate: 学习率，默认为0.01\n",
    "        \n",
    "    返回：\n",
    "        parameters: 更新后的参数\n",
    "        √\n",
    "    \"\"\"\n",
    "    ### START CODE HERE ###\n",
    "\n",
    "    parameters = theta - learning_rate * gradients\n",
    "\n",
    "    ### END CODE HERE ###\n",
    "    \n",
    "    return parameters"
   ]
  },
  {
   "cell_type": "code",
   "execution_count": 100,
   "metadata": {},
   "outputs": [
    {
     "name": "stdout",
     "output_type": "stream",
     "text": [
      "theta_one_iter =  [[ 0.38864466]\n",
      " [-3.8901547 ]]\n"
     ]
    }
   ],
   "source": [
    "theta_one_iter = update_parameters(theta, gradients_first)\n",
    "\n",
    "print(\"theta_one_iter = \", theta_one_iter)"
   ]
  },
  {
   "cell_type": "markdown",
   "metadata": {},
   "source": [
    "**任务7**：将前面定义的函数整合起来，实现完整的模型训练函数。迭代更新$\\theta$ `iter_num`次。迭代次数参数`iter_num`也是一个超参数，如果`iter_num`太小，损失函数$J(\\theta)$还没有收敛；如果`iter_num`太大，损失函数$J(\\theta)$早就收敛了，过多的迭代浪费时间。"
   ]
  },
  {
   "cell_type": "code",
   "execution_count": 105,
   "metadata": {},
   "outputs": [],
   "source": [
    "def model(X, Y, theta, iter_num = 100, learning_rate=0.0001):\n",
    "    \"\"\"梯度下降函数\n",
    "    参数：\n",
    "        X: 训练集数据特征，shape: (m, n+1)\n",
    "        Y: 训练集数据标签，shape: (m, 1)\n",
    "        iter_num: 梯度下降的迭代次数\n",
    "        theta: 初始化的参数，shape: (n+1, 1)\n",
    "    返回：\n",
    "        loss_history: 每次迭代的损失值\n",
    "        theta_history: 每次迭代更新后的参数\n",
    "        theta: 训练得到的参数\n",
    "        √\n",
    "    \"\"\"\n",
    "    \n",
    "    loss_history = []\n",
    "    theta_history = []\n",
    "\n",
    "    for i in range(iter_num):\n",
    "        \n",
    "        ### START CODE HERE ###\n",
    "        # 预测\n",
    "\n",
    "        predict_Y = compute_predict_Y(X , theta)\n",
    "        \n",
    "        # 计算损失\n",
    "        \n",
    "        loss = compute_J(predict_Y , Y)\n",
    "        \n",
    "        # 计算梯度\n",
    "        \n",
    "        gradients = compute_gradient(predict_Y , Y ,X)\n",
    "        \n",
    "        # 更新参数\n",
    "        \n",
    "        theta = update_parameters(theta , gradients , learning_rate = 0.0001)\n",
    "        \n",
    "        ### END CODE HERE ###\n",
    "        \n",
    "        loss_history.append(loss)\n",
    "        theta_history.append(theta)\n",
    "    \n",
    "    return loss_history, theta_history, theta"
   ]
  },
  {
   "cell_type": "code",
   "execution_count": 106,
   "metadata": {},
   "outputs": [
    {
     "name": "stdout",
     "output_type": "stream",
     "text": [
      "theta =  [[1.18757771e+72]\n",
      " [3.40816408e+73]]\n",
      "loss =  4.990900879195964e+149\n"
     ]
    },
    {
     "data": {
      "image/png": "[encoded data removed]",
      "text/plain": [
       "<Figure size 432x288 with 1 Axes>"
      ]
     },
     "metadata": {
      "needs_background": "light"
     },
     "output_type": "display_data"
    }
   ],
   "source": [
    "# 尝试不同的学习率和迭代次数\n",
    "# 提交作业之前要把学习效率改为0.0001，然后重新运行一遍\n",
    "\n",
    "loss_history, theta_history, theta = model(X, Y, theta, learning_rate=0.0001)\n",
    "\n",
    "print(\"theta = \", theta)\n",
    "\n",
    "plt.plot(loss_history)\n",
    "print(\"loss = \", loss_history[-1])"
   ]
  },
  {
   "cell_type": "markdown",
   "metadata": {},
   "source": [
    "下面是学习到的线性模型与原始数据的关系"
   ]
  },
  {
   "cell_type": "code",
   "execution_count": 20,
   "metadata": {},
   "outputs": [
    {
     "data": {
      "text/plain": [
       "[<matplotlib.lines.Line2D at 0x234c9124d60>]"
      ]
     },
     "execution_count": 20,
     "metadata": {},
     "output_type": "execute_result"
    },
    {
     "data": {
      "image/png": "[encoded data removed]",
      "text/plain": [
       "<Figure size 432x288 with 1 Axes>"
      ]
     },
     "metadata": {
      "needs_background": "light"
     },
     "output_type": "display_data"
    }
   ],
   "source": [
    "plt.scatter(X[:,1],Y)\n",
    "x = np.arange(10,42)\n",
    "plt.plot(x,x*theta[1][0]+theta[0][0],'r')"
   ]
  },
  {
   "cell_type": "markdown",
   "metadata": {},
   "source": [
    "现在直观地了解一下梯度下降的过程。"
   ]
  },
  {
   "cell_type": "code",
   "execution_count": 21,
   "metadata": {},
   "outputs": [
    {
     "name": "stdout",
     "output_type": "stream",
     "text": [
      "(50, 50)\n",
      "(50, 50)\n",
      "(80, 1)\n",
      "(50, 50)\n"
     ]
    },
    {
     "data": {
      "text/plain": [
       "<matplotlib.collections.PathCollection at 0x234bf86a220>"
      ]
     },
     "execution_count": 21,
     "metadata": {},
     "output_type": "execute_result"
    },
    {
     "data": {
      "image/png": "[encoded data removed]",
      "text/plain": [
       "<Figure size 432x288 with 1 Axes>"
      ]
     },
     "metadata": {
      "needs_background": "light"
     },
     "output_type": "display_data"
    }
   ],
   "source": [
    "theta_0 = np.linspace(0, 1, 50)\n",
    "theta_1 = np.linspace(0, 1, 50)\n",
    "theta_0, theta_1 = np.meshgrid(theta_0,theta_1)\n",
    "J = np.zeros_like(theta_0)\n",
    "predict_Ys = np.zeros_like(predict_Y)\n",
    "print(theta_0.shape)\n",
    "print(theta_1.shape)\n",
    "print(predict_Ys.shape)\n",
    "print(J.shape)\n",
    "\n",
    "for i in range(50):\n",
    "    for j in range(50):\n",
    "        predict_Y = compute_predict_Y(X, np.array([[theta_0[i,j]],[theta_1[i,j]]]))\n",
    "        J[i,j] = compute_J(predict_Y, Y)\n",
    "\n",
    "plt.contourf(theta_0, theta_1, J, 10, alpha = 0.6, cmap = plt.cm.coolwarm)\n",
    "C = plt.contour(theta_0, theta_1, J, 10, colors = 'black')\n",
    "\n",
    "# 画出损失函数J的历史位置\n",
    "history_num = len(theta_history)\n",
    "theta_0_history = np.zeros(history_num)\n",
    "theta_1_history = np.zeros(history_num)\n",
    "for i in range(history_num):\n",
    "    theta_0_history[i],theta_1_history[i] = theta_history[i][0,0],theta_history[i][1,0]\n",
    "plt.scatter(theta_0_history, theta_1_history, c=\"r\")"
   ]
  },
  {
   "cell_type": "markdown",
   "metadata": {},
   "source": [
    "可以看到，$J(\\theta)$的值不断地往最低点移动。在y轴，$J(\\theta)$下降的比较快，在x轴，$J(\\theta)$下降的比较慢。"
   ]
  },
  {
   "cell_type": "markdown",
   "metadata": {},
   "source": [
    "## 多变量线性回归\n",
    "上述例子时单变量回归的例子，样本的特征只有一个一天的最高温度。负责人进过分析后发现，城市一天的峰值用电量还与城市人口有关系，因此，他在回归模型中添加城市人口变量$x_2$，你的任务是训练这个多变量回归方程：\n",
    "$$\n",
    "h(x) = \\theta^T x = \\theta_0 * 1 + \\theta_1 * x_1 + \\theta_2 * x_2\n",
    "$$\n",
    "之前实现的梯度下降法使用的对象是$\\theta$和$X$向量，所示实现的梯度下降函数适用单变量回归和多变量回归。这里可以看到使用向量化的公式在多变量回归里依然不变，因此代码也基本一样,直接调用前面实现的函数即可。\n",
    "\n",
    "**任务8：** 现在，训练一个多变量回归模型。"
   ]
  },
  {
   "cell_type": "code",
   "execution_count": 46,
   "metadata": {},
   "outputs": [
    {
     "name": "stdout",
     "output_type": "stream",
     "text": [
      "theta =  [[0.63174443]\n",
      " [0.05125967]\n",
      " [0.87463388]]\n",
      "loss =  0.14538920893363988\n"
     ]
    },
    {
     "data": {
      "image/png": "[encoded data removed]",
      "text/plain": [
       "<Figure size 432x288 with 1 Axes>"
      ]
     },
     "metadata": {
      "needs_background": "light"
     },
     "output_type": "display_data"
    }
   ],
   "source": [
    "#读取数据，X的前两列\n",
    "X = data[:,0:2].reshape(-1, 2)\n",
    "Y = data[:,2].reshape(-1, 1)\n",
    "\n",
    "### START CODE HERE ###\n",
    "\n",
    "loss_history = []\n",
    "theta_history = []\n",
    "# 同样为X的前面添加一列1,使得X的shape从100x2 -> 100x3\n",
    "\n",
    "X = preprocess_data(X)\n",
    "\n",
    "# 初始化参数theta ,theta的shape应为 3x1\n",
    "\n",
    "theta = np.random.rand(3 , 1)\n",
    "\n",
    "#传入模型训练 learning_rate设为0.0001\n",
    "loss_history, theta_history, theta = model(X , Y , theta)\n",
    "\n",
    "### END CODE HERE ###\n",
    "print(\"theta = \", theta)\n",
    "\n",
    "plt.plot(loss_history)\n",
    "print(\"loss = \", loss_history[-1])"
   ]
  },
  {
   "cell_type": "markdown",
   "metadata": {},
   "source": [
    "## 特征归一化\n",
    "\n",
    "特征归一化可以确保特征在相同的尺度，加快梯度下降的收敛过程。\n",
    "\n",
    "**任务9：** 对数据进行零均值单位方差归一化处理。零均值单位方差归一化公式：\n",
    "$$\n",
    "x_i = \\frac{x_i - \\mu_i}{\\sigma_i}\n",
    "$$\n",
    "其中$i$表示第$i$个特征，$\\mu_i$表示第$i$个特征的均值，$\\sigma_i$表示第$i$个特征的标准差。进行零均值单位方差归一化处理后，数据符合标准正态分布，即均值为0，标准差为1。  \n",
    "**注意**，使用新样本进行预测时，需要对样本的特征进行相同的缩放处理。\n",
    "\n",
    "提示：求特征的均值，使用numpy的函数`np.mean`，求特征的标准差，使用numpy的函数`np.std`，需要注意对哪个维度求均值和标准差。比如，对矩阵A对每一行求均值`np.mean(A,axis=0)`"
   ]
  },
  {
   "cell_type": "code",
   "execution_count": 47,
   "metadata": {},
   "outputs": [
    {
     "name": "stdout",
     "output_type": "stream",
     "text": [
      "mu =  [25.6295  1.131 ]\n",
      "sigma =  13.765553973142527\n",
      "theta =  [[2.86187867]\n",
      " [1.1061388 ]\n",
      " [2.97644515]]\n",
      "loss =  0.08812076593056666\n"
     ]
    },
    {
     "data": {
      "image/png": "[encoded data removed]",
      "text/plain": [
       "<Figure size 432x288 with 1 Axes>"
      ]
     },
     "metadata": {
      "needs_background": "light"
     },
     "output_type": "display_data"
    }
   ],
   "source": [
    "X = data[:,0:2].reshape((-1, 2))\n",
    "Y = data[:,2].reshape((-1, 1))\n",
    "\n",
    "### START CODE HERE ###\n",
    "\n",
    "# 计算特征的均值 mu\n",
    "\n",
    "mu = np.mean(X , axis=0)\n",
    "\n",
    "# 计算特征的标准差 sigma\n",
    "\n",
    "sigma = np.std(X)\n",
    "\n",
    "# 零均值单位方差归一化\n",
    "\n",
    "X_norm = (X - mu) / sigma\n",
    "\n",
    "### END CODE HERE ###\n",
    "\n",
    "# 训练多变量回归模型\n",
    "# X_norm前面加一列1\n",
    "X = preprocess_data(X_norm)\n",
    "\n",
    "theta = np.array([3,3,3]).reshape(3,1)#init_parameter((3,1))\n",
    "\n",
    "# 学习率使用0.1\n",
    "\n",
    "loss_history, theta_history, theta = model(X, Y, theta, learning_rate=0.1)\n",
    "\n",
    "\n",
    "print(\"mu = \", mu)\n",
    "print(\"sigma = \", sigma)\n",
    "\n",
    "print(\"theta = \", theta)\n",
    "\n",
    "plt.plot(loss_history)\n",
    "print(\"loss = \", loss_history[-1])"
   ]
  },
  {
   "cell_type": "markdown",
   "metadata": {},
   "source": [
    "我们来直观地了解特征尺度归一化的梯度下降的过程。这里只展示单变量回归梯度下降过程。"
   ]
  },
  {
   "cell_type": "code",
   "execution_count": 48,
   "metadata": {},
   "outputs": [
    {
     "data": {
      "text/plain": [
       "<matplotlib.collections.PathCollection at 0x234bf9dc9d0>"
      ]
     },
     "execution_count": 48,
     "metadata": {},
     "output_type": "execute_result"
    },
    {
     "data": {
      "image/png": "[encoded data removed]",
      "text/plain": [
       "<Figure size 432x288 with 1 Axes>"
      ]
     },
     "metadata": {
      "needs_background": "light"
     },
     "output_type": "display_data"
    }
   ],
   "source": [
    "X_show = X[:,0:2]\n",
    "X_show = preprocess_data(X_show)\n",
    "\n",
    "theta_0 = np.linspace(-2, 3, 50)\n",
    "theta_1 = np.linspace(-2, 3, 50)\n",
    "theta_0, theta_1 = np.meshgrid(theta_0,theta_1)\n",
    "J = np.zeros_like(theta_0)\n",
    "\n",
    "for i in range(50):\n",
    "    for j in range(50):\n",
    "        predict_Y = compute_predict_Y(X_show, np.array([[2.877],[theta_0[i,j]],[theta_1[i,j]]]))\n",
    "        J[i,j] = compute_J(predict_Y, Y)\n",
    "\n",
    "plt.contourf(theta_0, theta_1, J, 10, alpha = 0.6, cmap = plt.cm.coolwarm)\n",
    "C = plt.contour(theta_0, theta_1, J, 10, colors = 'black')\n",
    "\n",
    "# 画出损失函数J的历史位置\n",
    "history_num = len(theta_history)\n",
    "theta_0_history = np.zeros(history_num)\n",
    "theta_1_history = np.zeros(history_num)\n",
    "for i in range(history_num):\n",
    "    theta_0_history[i],theta_1_history[i] = theta_history[i][2,0],theta_history[i][1,0]\n",
    "plt.scatter(theta_0_history, theta_1_history, c=\"r\")"
   ]
  },
  {
   "cell_type": "markdown",
   "metadata": {},
   "source": [
    "可以看到，$J(\\theta)$的值不断地往最低点移动。与没有进行特征尺度归一化的图相比，归一化后，每个维度的变化幅度大致相同，这有助于$J(\\theta)$的值快速下降到最低点。"
   ]
  },
  {
   "cell_type": "markdown",
   "metadata": {},
   "source": [
    "## 正规方程\n",
    "\n",
    "对于求函数极小值问题，可以使用求导数的方法，令函数的导数为0，然后求解方程，得到解析解。正规方程正是使用这种方法求的损失函数$J(\\theta)$的极小值，而线性回归的损失函数$J(\\theta)$是一个凸函数，所以极小值就是最小值。\n",
    "\n",
    "正规方程的求解过程就不详细推导了，正规方程的公式是：\n",
    "$$\n",
    "\\theta = (X^T X)^{-1} X^T Y\n",
    "$$\n",
    "\n",
    "如果$m \\le n +1$，那么$X^T X$是奇异矩阵，即$X^T X$不可逆。\n",
    "$X^T X$不可逆的原因可能是：\n",
    "\n",
    "- 特征之间冗余，比如特征向量中两个特征是线性相关的。\n",
    "- 特征太多，删去一些特征再进行运算。\n",
    "\n",
    "正规方程的缺点之一就是$X^T X$不可逆的情况，可以通过正则化的方式解决。另一个缺点是，如果样本的个数太多，特征数量太多($n \\gt 10000$)，正规方程的运算会很慢（求逆矩阵的运算复杂）。\n",
    "\n",
    "**任务10：** 下面来实现正规方程。\n",
    "提示：Numpy 求逆矩阵的函数是`np.linalg.inv`。"
   ]
  },
  {
   "cell_type": "code",
   "execution_count": 49,
   "metadata": {},
   "outputs": [],
   "source": [
    "def normal_equation(X, Y):\n",
    "    \"\"\"正规方程求线性回归方程的参数 theta\n",
    "    参数：\n",
    "        X: 训练集数据特征，shape: (m, n+1)\n",
    "        Y: 训练集数据标签，shape: (m, 1)\n",
    "    返回：\n",
    "        theta: 线性回归方程的参数\n",
    "    \"\"\"\n",
    "    \n",
    "    ### START CODE HERE ###\n",
    "    \n",
    "    theta = np.linalg.inv(np.dot(X.T , X))\n",
    "    theta = np.dot(theta , X.T)\n",
    "    theta = np.dot(theta , Y)\n",
    "    \n",
    "    ### END CODE HERE ###\n",
    "    \n",
    "    return theta"
   ]
  },
  {
   "cell_type": "code",
   "execution_count": 50,
   "metadata": {},
   "outputs": [
    {
     "name": "stdout",
     "output_type": "stream",
     "text": [
      "theta =  [[2.861875  ]\n",
      " [1.08909709]\n",
      " [1.59327349]]\n"
     ]
    }
   ],
   "source": [
    "theta = normal_equation(X, Y)\n",
    "\n",
    "print(\"theta = \", theta)"
   ]
  },
  {
   "cell_type": "markdown",
   "metadata": {},
   "source": [
    "恭喜，你已经帮助项目负责人计算出了一个线性模型。\n",
    "\n",
    "**任务11：** 假设明天的最高温度是$x_1 = 40$°C，人口$x_2 = 3.3$百万，使用通过正规方程计算得到的$\\theta$预测明天的城市的峰值用电量（单位：GW）吧！  \n",
    "**注意**，$x$要进行同样的特征尺度归一化处理。"
   ]
  },
  {
   "cell_type": "code",
   "execution_count": 51,
   "metadata": {},
   "outputs": [
    {
     "name": "stdout",
     "output_type": "stream",
     "text": [
      "预计明天的峰值用电量为：2.86 GW\n"
     ]
    }
   ],
   "source": [
    "def predict(theta,x):\n",
    "    \n",
    "    ### START CODE HERE ###\n",
    "    # 零均值单位方差归一化\n",
    "\n",
    "    x = (x - np.mean(x , axis = 0)) / np.std(x)\n",
    "    \n",
    "    # 在x前面加一列\n",
    "    \n",
    "    x = preprocess_data(x)\n",
    "    \n",
    "    #预测\n",
    "    \n",
    "    prediction = compute_predict_Y(x , theta)\n",
    "    \n",
    "    ### END CODE HERE ###\n",
    "\n",
    "    return prediction\n",
    "\n",
    "x = np.array([[40,3.3]])\n",
    "print('预计明天的峰值用电量为：%.2f GW'%(predict(theta,x)[0])) "
   ]
  },
  {
   "cell_type": "markdown",
   "metadata": {},
   "source": [
    "以上都是线性模型，当我们数据的特征$X$与$Y$的关系没有明显的线性关系，而且又找不到合适的映射函数时，可以尝试多项式回归。\n",
    "下面导入另一组最高气温与用电量数据，我们用线性模型试一试看看效果发现并不太好。"
   ]
  },
  {
   "cell_type": "code",
   "execution_count": 44,
   "metadata": {},
   "outputs": [
    {
     "data": {
      "text/plain": [
       "[<matplotlib.lines.Line2D at 0x234bfeadca0>]"
      ]
     },
     "execution_count": 44,
     "metadata": {},
     "output_type": "execute_result"
    },
    {
     "data": {
      "image/png": "[encoded data removed]",
      "text/plain": [
       "<Figure size 432x288 with 1 Axes>"
      ]
     },
     "metadata": {
      "needs_background": "light"
     },
     "output_type": "display_data"
    }
   ],
   "source": [
    "data1 = np.loadtxt('data1.txt')\n",
    "X = data1[:,0].reshape(-1,1)\n",
    "Y = data1[:,1].reshape(-1,1)\n",
    "\n",
    "plt.scatter(X,Y)\n",
    "X = np.hstack((np.ones((X.shape[0],1)),X))\n",
    "theta = normal_equation(X,Y)\n",
    "plt.plot(np.sort(X[:,1]),np.dot(X,theta)[np.argsort(X[:,1])],'r')"
   ]
  },
  {
   "cell_type": "markdown",
   "metadata": {},
   "source": [
    "## 多项式回归\n",
    "\n",
    "多项式回归的最大优点就是可以通过增加$X$的高次项对实测点进行逼近，直至满意为止。事实上，多项式回归可以处理相当一类非线性问题，它在回归分析中占有重要的地位，因为任一函数都可以分段用多项式来逼近。因此，在通常的实际问题中，不论依变量与其他自变量的关系如何，我们总可以用多项式回归来进行分析。假设数据的特征只有一个$a$，多项式的最高次数为$K$，那么多项式回归方程为：\n",
    "$$\n",
    "h(x) = \\theta^T x = \\theta_0 * a^0 + \\theta_1 * a^1 + \\theta_2 * a^2 + \\cdots + \\theta_K * a^K\n",
    "$$\n",
    "若令$x = \\begin{bmatrix} a^0, a^1, a^2, \\cdots, a^K \\end{bmatrix}^T$，那么\n",
    "$$\n",
    "h(x) = \\theta^T x = \\theta_0 * x_0 + \\theta_1 * x_1 + \\theta_2 * x_2, \\cdots, \\theta_K * x_K\n",
    "$$\n",
    "这就变为多变量线性回归了。\n",
    "\n",
    "**任务12：**现在训练一个多项式模型，$K=2$,直接用上面的正规方程得到模型。\n",
    "$$\n",
    "    h(x) = \\theta^T x = \\theta_0 * 1 + \\theta_1 * x + \\theta_2 * x^2\n",
    "$$\n",
    "所以输入数据$X$应该变成这样\n",
    "$$\n",
    "\\begin{bmatrix} x^{(0)} \\\\ x^{(1)} \\\\ \\vdots \\\\x^{(m-1)}  \\end{bmatrix} \\longrightarrow\n",
    "\\begin{bmatrix} 1\\quad x^{(0)}\\quad {x^{(0)}}^2 \\\\ 1\\quad x^{(1)} \\quad {x^{(1)}}^2\\\\ \\vdots \\\\ 1\\ x^{(m-1)}\\quad {x^{(m-1)}}^2  \\end{bmatrix}\n",
    "$$"
   ]
  },
  {
   "cell_type": "code",
   "execution_count": 115,
   "metadata": {},
   "outputs": [
    {
     "data": {
      "text/plain": [
       "[<matplotlib.lines.Line2D at 0x234bfed4fa0>]"
      ]
     },
     "execution_count": 115,
     "metadata": {},
     "output_type": "execute_result"
    },
    {
     "data": {
      "image/png": "[encoded data removed]",
      "text/plain": [
       "<Figure size 432x288 with 1 Axes>"
      ]
     },
     "metadata": {
      "needs_background": "light"
     },
     "output_type": "display_data"
    }
   ],
   "source": [
    "data1 = np.loadtxt('data1.txt')\n",
    "X = data1[:,0].reshape(-1,1)\n",
    "Y = data1[:,1].reshape(-1,1)\n",
    "\n",
    "### START CODE HERE ###\n",
    "\n",
    "# 对X 前面加1， 后面加平方，变为 m x 3 的矩阵\n",
    "m = X.shape[0]   # m 是数据X的行数\n",
    "X_square = [[X[i][j]**2 for j in range(len(X[i]))] for i in range(len(X))]\n",
    "X = preprocess_data(X)\n",
    "X = np.hstack((X , X_square))\n",
    "\n",
    "# 用正规方程求解theta\n",
    "theta = normal_equation(X , Y)\n",
    "\n",
    "### END CODE HERE ###\n",
    "plt.scatter(X[:,1],Y)\n",
    "plt.plot(np.sort(X[:,1]),np.dot(X,theta)[np.argsort(X[:,1])],'r')"
   ]
  },
  {
   "cell_type": "markdown",
   "metadata": {},
   "source": [
    "所有任务到这里就结束了，下面是对上面的数据进行任意多项式拟合的结果，你可以通过多次改变$K$的值来调整多项式的阶数来看看模型的效果(但不设的太大,$K \\le 193$)。可以看到，越复杂的模型，虽然拟合数据效果很好，但是其泛化能力就会很差，所以模型应该要尽量简单。"
   ]
  },
  {
   "cell_type": "code",
   "execution_count": 116,
   "metadata": {},
   "outputs": [
    {
     "name": "stderr",
     "output_type": "stream",
     "text": [
      "D:\\Anaconda\\lib\\site-packages\\numpy\\lib\\nanfunctions.py:1544: RuntimeWarning: overflow encountered in multiply\n",
      "  sqr = np.multiply(arr, arr, out=arr)\n"
     ]
    },
    {
     "data": {
      "text/plain": [
       "[<matplotlib.lines.Line2D at 0x234c894a940>]"
      ]
     },
     "execution_count": 116,
     "metadata": {},
     "output_type": "execute_result"
    },
    {
     "data": {
      "image/png": "[encoded data removed]",
      "text/plain": [
       "<Figure size 432x288 with 1 Axes>"
      ]
     },
     "metadata": {
      "needs_background": "light"
     },
     "output_type": "display_data"
    }
   ],
   "source": [
    "from sklearn.linear_model import LinearRegression\n",
    "from sklearn.preprocessing import PolynomialFeatures\n",
    "from sklearn.pipeline import Pipeline\n",
    "from sklearn.preprocessing import StandardScaler\n",
    "\n",
    "def PolynomialRegression(degree):\n",
    "    return Pipeline([\n",
    "        (\"poly\",PolynomialFeatures(degree=degree)),\n",
    "        (\"std_scaler\",StandardScaler()),\n",
    "        (\"lin_reg\",LinearRegression())    \n",
    "    ])\n",
    "X = data1[:,0].reshape(-1,1)\n",
    "Y = data1[:,1].reshape(-1,1)\n",
    "K = 193  #试试193(K<=193)\n",
    "\n",
    "poly_reg = PolynomialRegression(degree=K)\n",
    "poly_reg.fit(X,Y.squeeze())\n",
    "y_predict = poly_reg.predict(X)\n",
    "plt.scatter(X,Y)\n",
    "plt.plot(np.sort(X[:,0]),y_predict[np.argsort(X[:,0])],color='r')"
   ]
  },
  {
   "cell_type": "markdown",
   "metadata": {},
   "source": []
  }
 ],
 "metadata": {
  "interpreter": {
   "hash": "07efdcd4b820c98a756949507a4d29d7862823915ec7477944641bea022f4f62"
  },
  "kernelspec": {
   "display_name": "Python 3",
   "language": "python",
   "name": "python3"
  },
  "language_info": {
   "codemirror_mode": {
    "name": "ipython",
    "version": 3
   },
   "file_extension": ".py",
   "mimetype": "text/x-python",
   "name": "python",
   "nbconvert_exporter": "python",
   "pygments_lexer": "ipython3",
   "version": "3.8.5"
  }
 },
 "nbformat": 4,
 "nbformat_minor": 2
}
